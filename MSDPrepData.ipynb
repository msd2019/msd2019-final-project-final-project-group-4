{
 "cells": [
  {
   "cell_type": "code",
   "execution_count": 6,
   "metadata": {
    "collapsed": true
   },
   "outputs": [],
   "source": [
    "import csv\n",
    "import pandas\n",
    "import networkx as nx\n",
    "\n",
    "\n",
    "\n",
    "data = []\n",
    "in_txt = csv.reader(open(\"data/epinions.txt\", \"r\"), delimiter = '\\t')\n",
    "for row in in_txt:\n",
    "        data.append(tuple(row))\n",
    "   \n",
    "df1 = pandas.DataFrame(data, columns = ['FromNodeId', 'ToNodeId','Sign']) \n",
    "G1 = nx.Graph()\n",
    "G1.add_weighted_edges_from(data)\n",
    "\n"
   ]
  },
  {
   "cell_type": "code",
   "execution_count": 7,
   "metadata": {
    "collapsed": true
   },
   "outputs": [],
   "source": [
    "data2 = []\n",
    "in_txt2 = csv.reader(open(\"data/slashdot.txt\", \"r\"), delimiter = '\\t')\n",
    "for row in in_txt2:\n",
    "        data2.append(tuple(row))\n",
    "   \n",
    "df2 = pandas.DataFrame(data2, columns = ['FromNodeId', 'ToNodeId','Sign']) \n",
    "\n",
    "G2 = nx.Graph()\n",
    "G2.add_weighted_edges_from(data2)\n",
    "\n",
    "\n",
    "\n",
    "\n"
   ]
  },
  {
   "cell_type": "code",
   "execution_count": 12,
   "metadata": {},
   "outputs": [
    {
     "name": "stdout",
     "output_type": "stream",
     "text": [
      "131828\n"
     ]
    }
   ],
   "source": [
    "print(len(list(G1.nodes)))"
   ]
  },
  {
   "cell_type": "code",
   "execution_count": null,
   "metadata": {
    "collapsed": true
   },
   "outputs": [],
   "source": []
  }
 ],
 "metadata": {
  "kernelspec": {
   "display_name": "Python 3",
   "language": "python",
   "name": "python3"
  },
  "language_info": {
   "codemirror_mode": {
    "name": "ipython",
    "version": 3
   },
   "file_extension": ".py",
   "mimetype": "text/x-python",
   "name": "python",
   "nbconvert_exporter": "python",
   "pygments_lexer": "ipython3",
   "version": "3.6.3"
  }
 },
 "nbformat": 4,
 "nbformat_minor": 2
}
