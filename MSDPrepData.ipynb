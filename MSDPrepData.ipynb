{
 "cells": [
  {
   "cell_type": "code",
   "execution_count": null,
   "metadata": {
    "collapsed": true
   },
   "outputs": [],
   "source": [
    "import csv\n",
    "import pandas\n",
    "import networkx as nx\n",
    "\n"
   ]
  },
  {
   "cell_type": "code",
   "execution_count": 2,
   "metadata": {},
   "outputs": [],
   "source": [
    "\n",
    "\n",
    "\n",
    "data1 = []\n",
    "in_txt1 = csv.reader(open(\"data/epinions.txt\", \"r\"), delimiter = '\\t')\n",
    "for row in in_txt1:\n",
    "        data1.append(tuple(row))\n",
    "   \n",
    "df1 = pandas.DataFrame(data1, columns = ['FromNodeId', 'ToNodeId','Sign']) \n",
    "G1 = nx.Graph()\n",
    "G1.add_weighted_edges_from(data1)\n",
    "\n"
   ]
  },
  {
   "cell_type": "code",
   "execution_count": null,
   "metadata": {
    "collapsed": true
   },
   "outputs": [],
   "source": [
    "data2 = []\n",
    "in_txt2 = csv.reader(open(\"data/slashdot.txt\", \"r\"), delimiter = '\\t')\n",
    "for row in in_txt2:\n",
    "        data2.append(tuple(row))\n",
    "   \n",
    "df2 = pandas.DataFrame(data2, columns = ['FromNodeId', 'ToNodeId','Sign']) \n",
    "\n",
    "G2 = nx.Graph()\n",
    "G2.add_weighted_edges_from(data2)\n",
    "\n",
    "\n",
    "\n",
    "\n"
   ]
  },
  {
   "cell_type": "code",
   "execution_count": 3,
   "metadata": {},
   "outputs": [],
   "source": [
    "\n",
    "data3 = []\n",
    "in_txt3 = csv.reader(open(\"data/wiki-utf.txt\", \"r\"), delimiter = '\\t')\n",
    "\n",
    "v = \"\"\n",
    "\n",
    "for row in in_txt3:\n",
    "    if(len(row)!=0 and row[0]=='U'):\n",
    "        v = row[1]\n",
    "        \n",
    "    if(len(row)!=0 and row[0]=='V'):\n",
    "        newuple = (row[2],v,row[1])\n",
    "        data3.append(newuple)\n",
    "        \n",
    "\n",
    "     \n",
    "\n",
    "\n",
    "\n"
   ]
  },
  {
   "cell_type": "code",
   "execution_count": null,
   "metadata": {
    "collapsed": true
   },
   "outputs": [],
   "source": []
  }
 ],
 "metadata": {
  "kernelspec": {
   "display_name": "Python 3",
   "language": "python",
   "name": "python3"
  },
  "language_info": {
   "codemirror_mode": {
    "name": "ipython",
    "version": 3
   },
   "file_extension": ".py",
   "mimetype": "text/x-python",
   "name": "python",
   "nbconvert_exporter": "python",
   "pygments_lexer": "ipython3",
   "version": "3.6.3"
  }
 },
 "nbformat": 4,
 "nbformat_minor": 2
}
