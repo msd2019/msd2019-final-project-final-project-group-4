{
 "cells": [
  {
   "cell_type": "code",
   "execution_count": 22,
   "metadata": {},
   "outputs": [],
   "source": [
    "import csv\n",
    "import pandas as pd\n",
    "import networkx as nx\n",
    "from collections import defaultdict"
   ]
  },
  {
   "cell_type": "code",
   "execution_count": 23,
   "metadata": {},
   "outputs": [],
   "source": [
    "def sign_out_degree(G, e_sign):\n",
    "    outdegree = defaultdict(int)\n",
    "    for u,v in ((u,v) for u,v,d in G.out_edges(data=True) if d['sign']==e_sign):\n",
    "        outdegree[u]+=1\n",
    "    return outdegree"
   ]
  },
  {
   "cell_type": "code",
   "execution_count": 24,
   "metadata": {},
   "outputs": [],
   "source": [
    "def sign_in_degree(G, e_sign):\n",
    "    indegree = defaultdict(int)\n",
    "    for u,v in ((u,v) for u,v,d in G.in_edges(data=True) if d['sign']==e_sign):\n",
    "        indegree[v] +=1\n",
    "    return indegree"
   ]
  },
  {
   "cell_type": "code",
   "execution_count": 25,
   "metadata": {},
   "outputs": [],
   "source": [
    "def total_out_degree(G):\n",
    "    outdegree = defaultdict(int)\n",
    "    for i, j in G.out_degree():\n",
    "        outdegree[i] = j\n",
    "    return outdegree\n",
    "\n",
    "def total_in_degree(G):\n",
    "    indegree = defaultdict(int)\n",
    "    for i, j in G.in_degree():\n",
    "        indegree[i] = j\n",
    "    return indegree"
   ]
  },
  {
   "cell_type": "code",
   "execution_count": 26,
   "metadata": {},
   "outputs": [],
   "source": [
    "data = []\n",
    "in_txt = csv.reader(open(\"data/epinions.txt\", \"r\"), delimiter = '\\t')\n",
    "for row in in_txt:\n",
    "        data.append(tuple(row))\n",
    "   \n",
    "df1 = pd.DataFrame(data, columns = ['u', 'v','sign']) \n",
    "G_epinions = nx.from_pandas_edgelist(df1, 'u', 'v', 'sign', create_using=nx.DiGraph())\n",
    "\n",
    "\n",
    "data = []\n",
    "in_txt = csv.reader(open(\"data/slashdot.txt\", \"r\"), delimiter = '\\t')\n",
    "for row in in_txt:\n",
    "        data.append(tuple(row))\n",
    "   \n",
    "df1 = pd.DataFrame(data, columns = ['u', 'v','sign']) \n",
    "G_slashdot = nx.from_pandas_edgelist(df1, 'u', 'v', 'sign', create_using=nx.DiGraph())"
   ]
  },
  {
   "cell_type": "code",
   "execution_count": 27,
   "metadata": {},
   "outputs": [],
   "source": [
    "pos_out = sign_out_degree(G_epinions, '1')\n",
    "neg_out = sign_out_degree(G_epinions, '-1')\n",
    "\n",
    "pos_in = sign_in_degree(G_epinions, '1')\n",
    "neg_in = sign_in_degree(G_epinions, '-1')\n",
    "\n",
    "total_out = total_out_degree(G_epinions)\n",
    "total_in = total_in_degree(G_epinions)\n",
    "\n",
    "ds = [total_out, total_in, pos_in, neg_in, pos_out,neg_out]\n",
    "my_dict = {}\n",
    "\n",
    "for k in total_out.keys():\n",
    "  my_dict[k] = tuple(my_dict[k] for my_dict in ds)\n",
    "\n",
    "with open('nodes_features_epinions.csv', 'w') as csv_file:\n",
    "    writer = csv.writer(csv_file)\n",
    "    for key, value in my_dict.items():\n",
    "       writer.writerow([key, value])"
   ]
  },
  {
   "cell_type": "code",
   "execution_count": 28,
   "metadata": {},
   "outputs": [],
   "source": [
    "pos_out = sign_out_degree(G_slashdot, '1')\n",
    "neg_out = sign_out_degree(G_slashdot, '-1')\n",
    "\n",
    "pos_in = sign_in_degree(G_slashdot, '1')\n",
    "neg_in = sign_in_degree(G_slashdot, '-1')\n",
    "\n",
    "total_out = total_out_degree(G_slashdot)\n",
    "total_in = total_in_degree(G_slashdot)\n",
    "\n",
    "ds = [total_out, total_in, pos_in, neg_in, pos_out,neg_out]\n",
    "my_dict = {}\n",
    "\n",
    "for k in total_out.keys():\n",
    "  my_dict[k] = tuple(my_dict[k] for my_dict in ds)\n",
    "\n",
    "with open('nodes_features_slashdot.csv', 'w') as csv_file:\n",
    "    writer = csv.writer(csv_file)\n",
    "    for key, value in my_dict.items():\n",
    "       writer.writerow([key, value])"
   ]
  },
  {
   "cell_type": "code",
   "execution_count": null,
   "metadata": {},
   "outputs": [],
   "source": []
  }
 ],
 "metadata": {
  "kernelspec": {
   "display_name": "Python 3",
   "language": "python",
   "name": "python3"
  },
  "language_info": {
   "codemirror_mode": {
    "name": "ipython",
    "version": 3
   },
   "file_extension": ".py",
   "mimetype": "text/x-python",
   "name": "python",
   "nbconvert_exporter": "python",
   "pygments_lexer": "ipython3",
   "version": "3.7.0"
  }
 },
 "nbformat": 4,
 "nbformat_minor": 2
}
